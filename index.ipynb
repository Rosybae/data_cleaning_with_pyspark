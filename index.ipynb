{
 "cells": [
  {
   "cell_type": "code",
   "execution_count": 1,
   "metadata": {},
   "outputs": [
    {
     "name": "stdout",
     "output_type": "stream",
     "text": [
      "Requirement already satisfied: pyspark in c:\\users\\rosemary\\anaconda3\\lib\\site-packages (3.4.1)\n",
      "Requirement already satisfied: py4j==0.10.9.7 in c:\\users\\rosemary\\anaconda3\\lib\\site-packages (from pyspark) (0.10.9.7)\n"
     ]
    }
   ],
   "source": [
    "! pip install pyspark"
   ]
  },
  {
   "cell_type": "code",
   "execution_count": 2,
   "metadata": {},
   "outputs": [],
   "source": [
    "from pyspark.sql import SparkSession\n",
    "\n",
    "spark = SparkSession.builder.appName('rheeza').getOrCreate()"
   ]
  },
  {
   "cell_type": "markdown",
   "metadata": {},
   "source": [
    "## Understand the Dataset\n"
   ]
  },
  {
   "cell_type": "code",
   "execution_count": 3,
   "metadata": {},
   "outputs": [],
   "source": [
    "trials_df = spark.read.json('dataset.json')"
   ]
  },
  {
   "cell_type": "code",
   "execution_count": 4,
   "metadata": {},
   "outputs": [
    {
     "name": "stdout",
     "output_type": "stream",
     "text": [
      "+--------------------+----------------+--------------------+---------+-----------------+-------------------+------------------------------+--------------------+\n",
      "|     _corrupt_record|ageofparticipant|           clinician|drug_used|experimentenddate|experimentstartdate|noofhourspassedatfirstreaction|              result|\n",
      "+--------------------+----------------+--------------------+---------+-----------------+-------------------+------------------------------+--------------------+\n",
      "|[{\"ageofparticipa...|            null|                null|     null|             null|               null|                          null|                null|\n",
      "|                null|              14|{Ontario, Saul, n...| Naproxen|    1619827200000|      1617235200000|                            78|    {Follow-up, N/A}|\n",
      "|                null|              17|{Ontario, Saul, n...|  Placebo|    1619827200000|      1617235200000|                            14|    {Follow-up, N/A}|\n",
      "|                null|              18|{Ontario, Will, n...| Naproxen|    1619827200000|      1617235200000|                            14|{BP normalized, N/A}|\n",
      "|                null|              17|{Ontario, Patrick...| Naproxen|    1619827200000|      1617235200000|                            22|{No effect, rashe...|\n",
      "|                null|              17|{Ontario, Patrick...| Naproxen|    1619827200000|      1617235200000|                             4|{Follow-up, heada...|\n",
      "|                null|              20|{Ontario, Saul, d...| Naproxen|    1619827200000|      1617235200000|                            85|{No effect, heada...|\n",
      "|                null|              15|{Ontario, Saul, d...|  Placebo|    1619827200000|      1617235200000|                            49|{No effect, rashe...|\n",
      "|                null|              14|{Ontario, Will, t...|  Placebo|    1619827200000|      1617235200000|                            84|{Follow-up, heada...|\n",
      "|                null|              20|{Ontario, Colins,...|  Placebo|    1619827200000|      1617235200000|                            66|{Follow-up, arms ...|\n",
      "|                null|              18|{Ontario, Patrick...|  Placebo|    1619827200000|      1617235200000|                            40|{BP normalized, l...|\n",
      "|                null|              17|{Ontario, Patrick...|  Placebo|    1619827200000|      1617235200000|                            72|{BP normalized, a...|\n",
      "|                null|              19|{Ontario, Colins,...|  Placebo|    1619827200000|      1617235200000|                            36|    {No effect, N/A}|\n",
      "|                null|              15|{Ontario, Colins,...| Naproxen|    1619827200000|      1617235200000|                            12|{BP normalized, h...|\n",
      "|                null|              19|{Ontario, Saul, t...|  Placebo|    1619827200000|      1617235200000|                            14|    {No effect, N/A}|\n",
      "|                null|              16|{Ontario, Colins,...|  Placebo|    1619827200000|      1617235200000|                            63|{BP normalized, N/A}|\n",
      "|                null|              16|{Ontario, Saul, n...| Naproxen|    1619827200000|      1617235200000|                            70|{BP normalized, h...|\n",
      "|                null|              18|{Ontario, Will, t...| Naproxen|    1619827200000|      1617235200000|                            10|{BP normalized, N/A}|\n",
      "|                null|              16|{Ontario, Patrick...| Naproxen|    1619827200000|      1617235200000|                            11|{Follow-up, rashe...|\n",
      "|                null|              14|{Ontario, Patrick...| Naproxen|    1619827200000|      1617235200000|                            32|{No effect, light...|\n",
      "+--------------------+----------------+--------------------+---------+-----------------+-------------------+------------------------------+--------------------+\n",
      "only showing top 20 rows\n",
      "\n"
     ]
    }
   ],
   "source": [
    "trials_df.show()"
   ]
  }
 ],
 "metadata": {
  "kernelspec": {
   "display_name": "Python 3",
   "language": "python",
   "name": "python3"
  },
  "language_info": {
   "codemirror_mode": {
    "name": "ipython",
    "version": 3
   },
   "file_extension": ".py",
   "mimetype": "text/x-python",
   "name": "python",
   "nbconvert_exporter": "python",
   "pygments_lexer": "ipython3",
   "version": "3.10.9"
  },
  "orig_nbformat": 4
 },
 "nbformat": 4,
 "nbformat_minor": 2
}
